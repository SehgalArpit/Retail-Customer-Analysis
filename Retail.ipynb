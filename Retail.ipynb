{
 "cells": [
  {
   "cell_type": "markdown",
   "id": "4c88721e-ab1b-42ec-86a5-c105b031e330",
   "metadata": {},
   "source": [
    "## Retail Case Study"
   ]
  },
  {
   "cell_type": "markdown",
   "id": "dd865376-5c01-424c-b941-36c7e4f8f7d1",
   "metadata": {},
   "source": [
    "### Importing Data Files And Libraries"
   ]
  },
  {
   "cell_type": "code",
   "execution_count": 101,
   "id": "d69818b6-e3f7-46ef-ab72-89f78fe7754d",
   "metadata": {},
   "outputs": [],
   "source": [
    "import pandas as pd\n",
    "import numpy as np"
   ]
  },
  {
   "cell_type": "code",
   "execution_count": 102,
   "id": "16cb98bb-85fc-4ff5-84d0-73fc33f1da6f",
   "metadata": {},
   "outputs": [],
   "source": [
    "import matplotlib.pyplot as plt\n",
    "import seaborn as sns"
   ]
  },
  {
   "cell_type": "code",
   "execution_count": 103,
   "id": "7696cb7f-e7a7-4489-9ef5-86e13299ef66",
   "metadata": {},
   "outputs": [
    {
     "data": {
      "text/html": [
       "<div>\n",
       "<style scoped>\n",
       "    .dataframe tbody tr th:only-of-type {\n",
       "        vertical-align: middle;\n",
       "    }\n",
       "\n",
       "    .dataframe tbody tr th {\n",
       "        vertical-align: top;\n",
       "    }\n",
       "\n",
       "    .dataframe thead th {\n",
       "        text-align: right;\n",
       "    }\n",
       "</style>\n",
       "<table border=\"1\" class=\"dataframe\">\n",
       "  <thead>\n",
       "    <tr style=\"text-align: right;\">\n",
       "      <th></th>\n",
       "      <th>customer_Id</th>\n",
       "      <th>DOB</th>\n",
       "      <th>Gender</th>\n",
       "      <th>city_code</th>\n",
       "    </tr>\n",
       "  </thead>\n",
       "  <tbody>\n",
       "    <tr>\n",
       "      <th>0</th>\n",
       "      <td>268408</td>\n",
       "      <td>02-01-1970</td>\n",
       "      <td>M</td>\n",
       "      <td>4.0</td>\n",
       "    </tr>\n",
       "  </tbody>\n",
       "</table>\n",
       "</div>"
      ],
      "text/plain": [
       "   customer_Id         DOB Gender  city_code\n",
       "0       268408  02-01-1970      M        4.0"
      ]
     },
     "execution_count": 103,
     "metadata": {},
     "output_type": "execute_result"
    }
   ],
   "source": [
    "customer = pd.read_csv('Customer.csv')\n",
    "customer.head(1)"
   ]
  },
  {
   "cell_type": "code",
   "execution_count": 104,
   "id": "0ed3841c-0001-4b6a-8da4-3bb0e7bc9575",
   "metadata": {},
   "outputs": [
    {
     "data": {
      "text/html": [
       "<div>\n",
       "<style scoped>\n",
       "    .dataframe tbody tr th:only-of-type {\n",
       "        vertical-align: middle;\n",
       "    }\n",
       "\n",
       "    .dataframe tbody tr th {\n",
       "        vertical-align: top;\n",
       "    }\n",
       "\n",
       "    .dataframe thead th {\n",
       "        text-align: right;\n",
       "    }\n",
       "</style>\n",
       "<table border=\"1\" class=\"dataframe\">\n",
       "  <thead>\n",
       "    <tr style=\"text-align: right;\">\n",
       "      <th></th>\n",
       "      <th>prod_cat_code</th>\n",
       "      <th>prod_cat</th>\n",
       "      <th>prod_sub_cat_code</th>\n",
       "      <th>prod_subcat</th>\n",
       "    </tr>\n",
       "  </thead>\n",
       "  <tbody>\n",
       "    <tr>\n",
       "      <th>0</th>\n",
       "      <td>1</td>\n",
       "      <td>Clothing</td>\n",
       "      <td>4</td>\n",
       "      <td>Mens</td>\n",
       "    </tr>\n",
       "  </tbody>\n",
       "</table>\n",
       "</div>"
      ],
      "text/plain": [
       "   prod_cat_code  prod_cat  prod_sub_cat_code prod_subcat\n",
       "0              1  Clothing                  4        Mens"
      ]
     },
     "execution_count": 104,
     "metadata": {},
     "output_type": "execute_result"
    }
   ],
   "source": [
    "prod_cat = pd.read_csv('prod_cat_info.csv')\n",
    "prod_cat.head(1)"
   ]
  },
  {
   "cell_type": "code",
   "execution_count": 105,
   "id": "af129de5-ebff-45d0-8aab-5672045d5208",
   "metadata": {},
   "outputs": [
    {
     "data": {
      "text/html": [
       "<div>\n",
       "<style scoped>\n",
       "    .dataframe tbody tr th:only-of-type {\n",
       "        vertical-align: middle;\n",
       "    }\n",
       "\n",
       "    .dataframe tbody tr th {\n",
       "        vertical-align: top;\n",
       "    }\n",
       "\n",
       "    .dataframe thead th {\n",
       "        text-align: right;\n",
       "    }\n",
       "</style>\n",
       "<table border=\"1\" class=\"dataframe\">\n",
       "  <thead>\n",
       "    <tr style=\"text-align: right;\">\n",
       "      <th></th>\n",
       "      <th>transaction_id</th>\n",
       "      <th>cust_id</th>\n",
       "      <th>tran_date</th>\n",
       "      <th>prod_subcat_code</th>\n",
       "      <th>prod_cat_code</th>\n",
       "      <th>Qty</th>\n",
       "      <th>Rate</th>\n",
       "      <th>Tax</th>\n",
       "      <th>total_amt</th>\n",
       "      <th>Store_type</th>\n",
       "    </tr>\n",
       "  </thead>\n",
       "  <tbody>\n",
       "    <tr>\n",
       "      <th>0</th>\n",
       "      <td>80712190438</td>\n",
       "      <td>270351</td>\n",
       "      <td>28-02-2014</td>\n",
       "      <td>1</td>\n",
       "      <td>1</td>\n",
       "      <td>-5</td>\n",
       "      <td>-772</td>\n",
       "      <td>405.3</td>\n",
       "      <td>-4265.3</td>\n",
       "      <td>e-Shop</td>\n",
       "    </tr>\n",
       "  </tbody>\n",
       "</table>\n",
       "</div>"
      ],
      "text/plain": [
       "   transaction_id  cust_id   tran_date  prod_subcat_code  prod_cat_code  Qty  \\\n",
       "0     80712190438   270351  28-02-2014                 1              1   -5   \n",
       "\n",
       "   Rate    Tax  total_amt Store_type  \n",
       "0  -772  405.3    -4265.3     e-Shop  "
      ]
     },
     "execution_count": 105,
     "metadata": {},
     "output_type": "execute_result"
    }
   ],
   "source": [
    "transactions = pd.read_csv('Transactions.csv')\n",
    "transactions.head(1)"
   ]
  },
  {
   "cell_type": "markdown",
   "id": "c01d1c97-87f1-4288-85a4-c674aa85237c",
   "metadata": {},
   "source": [
    "### 1. Merge the datasets Customers, Product Hierarchy and Transactions as Customer_Final. Ensure to \n",
    "keep all customers who have done transactions with us and select the join type accordingly."
   ]
  },
  {
   "cell_type": "code",
   "execution_count": 125,
   "id": "390ac5f0-180b-4fd5-be35-996a35aafc5f",
   "metadata": {},
   "outputs": [],
   "source": [
    "customer_transactions = pd.merge(customer,transactions,left_on = 'customer_Id',right_on='cust_id',how='left')"
   ]
  },
  {
   "cell_type": "code",
   "execution_count": 126,
   "id": "c78cc647-b0fe-46ac-b717-a8a9a45b722e",
   "metadata": {},
   "outputs": [],
   "source": [
    "customer_final = pd.merge(customer_transactions,prod_cat,left_on = ['prod_subcat_code','prod_cat_code'],right_on=['prod_sub_cat_code','prod_cat_code'],how='left')"
   ]
  },
  {
   "cell_type": "code",
   "execution_count": 127,
   "id": "f0820b17-eddb-420e-8b40-c898fbc32680",
   "metadata": {},
   "outputs": [
    {
     "data": {
      "text/html": [
       "<div>\n",
       "<style scoped>\n",
       "    .dataframe tbody tr th:only-of-type {\n",
       "        vertical-align: middle;\n",
       "    }\n",
       "\n",
       "    .dataframe tbody tr th {\n",
       "        vertical-align: top;\n",
       "    }\n",
       "\n",
       "    .dataframe thead th {\n",
       "        text-align: right;\n",
       "    }\n",
       "</style>\n",
       "<table border=\"1\" class=\"dataframe\">\n",
       "  <thead>\n",
       "    <tr style=\"text-align: right;\">\n",
       "      <th></th>\n",
       "      <th>customer_Id</th>\n",
       "      <th>DOB</th>\n",
       "      <th>Gender</th>\n",
       "      <th>city_code</th>\n",
       "      <th>transaction_id</th>\n",
       "      <th>tran_date</th>\n",
       "      <th>prod_subcat_code</th>\n",
       "      <th>prod_cat_code</th>\n",
       "      <th>Qty</th>\n",
       "      <th>Rate</th>\n",
       "      <th>Tax</th>\n",
       "      <th>total_amt</th>\n",
       "      <th>Store_type</th>\n",
       "      <th>prod_cat</th>\n",
       "      <th>prod_subcat</th>\n",
       "    </tr>\n",
       "  </thead>\n",
       "  <tbody>\n",
       "    <tr>\n",
       "      <th>0</th>\n",
       "      <td>268408</td>\n",
       "      <td>02-01-1970</td>\n",
       "      <td>M</td>\n",
       "      <td>4.0</td>\n",
       "      <td>8.724384e+10</td>\n",
       "      <td>13-01-2014</td>\n",
       "      <td>7.0</td>\n",
       "      <td>5.0</td>\n",
       "      <td>5.0</td>\n",
       "      <td>187.0</td>\n",
       "      <td>98.175</td>\n",
       "      <td>1033.175</td>\n",
       "      <td>TeleShop</td>\n",
       "      <td>Books</td>\n",
       "      <td>Fiction</td>\n",
       "    </tr>\n",
       "  </tbody>\n",
       "</table>\n",
       "</div>"
      ],
      "text/plain": [
       "   customer_Id         DOB Gender  city_code  transaction_id   tran_date  \\\n",
       "0       268408  02-01-1970      M        4.0    8.724384e+10  13-01-2014   \n",
       "\n",
       "   prod_subcat_code  prod_cat_code  Qty   Rate     Tax  total_amt Store_type  \\\n",
       "0               7.0            5.0  5.0  187.0  98.175   1033.175   TeleShop   \n",
       "\n",
       "  prod_cat prod_subcat  \n",
       "0    Books     Fiction  "
      ]
     },
     "execution_count": 127,
     "metadata": {},
     "output_type": "execute_result"
    }
   ],
   "source": [
    "customer_final = customer_final.loc[:,['customer_Id','DOB','Gender','city_code','transaction_id','tran_date','prod_subcat_code','prod_cat_code','Qty','Rate','Tax','total_amt','Store_type','prod_cat','prod_subcat']]\n",
    "customer_final.head(1)"
   ]
  },
  {
   "cell_type": "markdown",
   "id": "edb577d6-7c1e-4ae0-ad76-cf32a4e41dd1",
   "metadata": {},
   "source": [
    "### 2. Prepare a summary report for the merged data set."
   ]
  },
  {
   "cell_type": "markdown",
   "id": "62a5542e-2e04-412d-b251-5d2ceeb13127",
   "metadata": {},
   "source": [
    "### a.Get the column names and their corresponding data types"
   ]
  },
  {
   "cell_type": "code",
   "execution_count": 128,
   "id": "96c1ff12-684c-4276-992a-6b9f4151ca68",
   "metadata": {},
   "outputs": [],
   "source": [
    "customer_final['customer_Id'] = customer_final['customer_Id'].astype('object')\n",
    "customer_final['city_code'] = customer_final['city_code'].astype('object')\n",
    "customer_final['transaction_id'] = customer_final['transaction_id'].astype('object')\n",
    "customer_final['prod_subcat_code'] = customer_final['prod_subcat_code'].astype('object')\n",
    "customer_final['prod_cat_code'] = customer_final['prod_cat_code'].astype('object')\n",
    "customer_final['prod_subcat_code'] = customer_final['prod_subcat_code'].astype('object')"
   ]
  },
  {
   "cell_type": "code",
   "execution_count": 130,
   "id": "b1d6f047-3c1a-4bdc-a62b-5458289c5967",
   "metadata": {},
   "outputs": [],
   "source": [
    "customer_final['tran_date'] = pd.to_datetime(customer_final['tran_date'],format='%d/%m/%Y',errors='coerce')"
   ]
  },
  {
   "cell_type": "code",
   "execution_count": 137,
   "id": "093ec2e4-5212-4356-956c-05bc22814466",
   "metadata": {},
   "outputs": [],
   "source": [
    "customer_final['DOB'] = pd.to_datetime(customer_final['DOB'],format='%d-%m-%Y')"
   ]
  },
  {
   "cell_type": "code",
   "execution_count": 138,
   "id": "83d1d18b-7acc-4146-8fb1-00773989eb0d",
   "metadata": {},
   "outputs": [
    {
     "name": "stdout",
     "output_type": "stream",
     "text": [
      "<class 'pandas.core.frame.DataFrame'>\n",
      "RangeIndex: 23194 entries, 0 to 23193\n",
      "Data columns (total 15 columns):\n",
      " #   Column            Non-Null Count  Dtype         \n",
      "---  ------            --------------  -----         \n",
      " 0   customer_Id       23194 non-null  object        \n",
      " 1   DOB               23194 non-null  datetime64[ns]\n",
      " 2   Gender            23185 non-null  object        \n",
      " 3   city_code         23186 non-null  object        \n",
      " 4   transaction_id    23053 non-null  object        \n",
      " 5   tran_date         9124 non-null   datetime64[ns]\n",
      " 6   prod_subcat_code  23053 non-null  object        \n",
      " 7   prod_cat_code     23053 non-null  object        \n",
      " 8   Qty               23053 non-null  float64       \n",
      " 9   Rate              23053 non-null  float64       \n",
      " 10  Tax               23053 non-null  float64       \n",
      " 11  total_amt         23053 non-null  float64       \n",
      " 12  Store_type        23053 non-null  object        \n",
      " 13  prod_cat          23053 non-null  object        \n",
      " 14  prod_subcat       23053 non-null  object        \n",
      "dtypes: datetime64[ns](2), float64(4), object(9)\n",
      "memory usage: 2.7+ MB\n"
     ]
    }
   ],
   "source": [
    "customer_final.info()"
   ]
  },
  {
   "cell_type": "markdown",
   "id": "d8808bc1-e559-46f9-8720-653724ebdbda",
   "metadata": {},
   "source": [
    "### b. Top/Bottom 10 observations"
   ]
  },
  {
   "cell_type": "code",
   "execution_count": 11,
   "id": "799c8448-7e28-4366-b128-f540b36e265b",
   "metadata": {},
   "outputs": [
    {
     "data": {
      "text/html": [
       "<div>\n",
       "<style scoped>\n",
       "    .dataframe tbody tr th:only-of-type {\n",
       "        vertical-align: middle;\n",
       "    }\n",
       "\n",
       "    .dataframe tbody tr th {\n",
       "        vertical-align: top;\n",
       "    }\n",
       "\n",
       "    .dataframe thead th {\n",
       "        text-align: right;\n",
       "    }\n",
       "</style>\n",
       "<table border=\"1\" class=\"dataframe\">\n",
       "  <thead>\n",
       "    <tr style=\"text-align: right;\">\n",
       "      <th></th>\n",
       "      <th>customer_Id</th>\n",
       "      <th>DOB</th>\n",
       "      <th>Gender</th>\n",
       "      <th>city_code</th>\n",
       "      <th>transaction_id</th>\n",
       "      <th>tran_date</th>\n",
       "      <th>prod_subcat_code</th>\n",
       "      <th>prod_cat_code</th>\n",
       "      <th>Qty</th>\n",
       "      <th>Rate</th>\n",
       "      <th>Tax</th>\n",
       "      <th>total_amt</th>\n",
       "      <th>Store_type</th>\n",
       "      <th>prod_cat</th>\n",
       "      <th>prod_subcat</th>\n",
       "    </tr>\n",
       "  </thead>\n",
       "  <tbody>\n",
       "    <tr>\n",
       "      <th>4065</th>\n",
       "      <td>270667</td>\n",
       "      <td>24-02-1974</td>\n",
       "      <td>M</td>\n",
       "      <td>9.0</td>\n",
       "      <td>47747209902.0</td>\n",
       "      <td>23-08-2012</td>\n",
       "      <td>5.0</td>\n",
       "      <td>3.0</td>\n",
       "      <td>5.0</td>\n",
       "      <td>1500.0</td>\n",
       "      <td>787.500</td>\n",
       "      <td>8287.500</td>\n",
       "      <td>MBR</td>\n",
       "      <td>Electronics</td>\n",
       "      <td>Computers</td>\n",
       "    </tr>\n",
       "    <tr>\n",
       "      <th>1900</th>\n",
       "      <td>271944</td>\n",
       "      <td>11-12-1971</td>\n",
       "      <td>F</td>\n",
       "      <td>5.0</td>\n",
       "      <td>94956713072.0</td>\n",
       "      <td>23-03-2013</td>\n",
       "      <td>4.0</td>\n",
       "      <td>2.0</td>\n",
       "      <td>5.0</td>\n",
       "      <td>1500.0</td>\n",
       "      <td>787.500</td>\n",
       "      <td>8287.500</td>\n",
       "      <td>e-Shop</td>\n",
       "      <td>Footwear</td>\n",
       "      <td>Kids</td>\n",
       "    </tr>\n",
       "    <tr>\n",
       "      <th>8202</th>\n",
       "      <td>274854</td>\n",
       "      <td>07-02-1978</td>\n",
       "      <td>M</td>\n",
       "      <td>1.0</td>\n",
       "      <td>96892547017.0</td>\n",
       "      <td>21-06-2011</td>\n",
       "      <td>3.0</td>\n",
       "      <td>2.0</td>\n",
       "      <td>5.0</td>\n",
       "      <td>1500.0</td>\n",
       "      <td>787.500</td>\n",
       "      <td>8287.500</td>\n",
       "      <td>e-Shop</td>\n",
       "      <td>Footwear</td>\n",
       "      <td>Women</td>\n",
       "    </tr>\n",
       "    <tr>\n",
       "      <th>10602</th>\n",
       "      <td>272954</td>\n",
       "      <td>05-06-1980</td>\n",
       "      <td>F</td>\n",
       "      <td>3.0</td>\n",
       "      <td>53187031441.0</td>\n",
       "      <td>26-05-2012</td>\n",
       "      <td>2.0</td>\n",
       "      <td>6.0</td>\n",
       "      <td>5.0</td>\n",
       "      <td>1500.0</td>\n",
       "      <td>787.500</td>\n",
       "      <td>8287.500</td>\n",
       "      <td>TeleShop</td>\n",
       "      <td>Home and kitchen</td>\n",
       "      <td>Furnishing</td>\n",
       "    </tr>\n",
       "    <tr>\n",
       "      <th>9504</th>\n",
       "      <td>271152</td>\n",
       "      <td>12-06-1979</td>\n",
       "      <td>M</td>\n",
       "      <td>8.0</td>\n",
       "      <td>58989623800.0</td>\n",
       "      <td>1/10/2011</td>\n",
       "      <td>5.0</td>\n",
       "      <td>3.0</td>\n",
       "      <td>5.0</td>\n",
       "      <td>1499.0</td>\n",
       "      <td>786.975</td>\n",
       "      <td>8281.975</td>\n",
       "      <td>e-Shop</td>\n",
       "      <td>Electronics</td>\n",
       "      <td>Computers</td>\n",
       "    </tr>\n",
       "    <tr>\n",
       "      <th>7375</th>\n",
       "      <td>273076</td>\n",
       "      <td>28-04-1977</td>\n",
       "      <td>F</td>\n",
       "      <td>5.0</td>\n",
       "      <td>35447491388.0</td>\n",
       "      <td>24-09-2013</td>\n",
       "      <td>10.0</td>\n",
       "      <td>3.0</td>\n",
       "      <td>5.0</td>\n",
       "      <td>1499.0</td>\n",
       "      <td>786.975</td>\n",
       "      <td>8281.975</td>\n",
       "      <td>MBR</td>\n",
       "      <td>Electronics</td>\n",
       "      <td>Audio and video</td>\n",
       "    </tr>\n",
       "    <tr>\n",
       "      <th>13420</th>\n",
       "      <td>270087</td>\n",
       "      <td>08-04-1983</td>\n",
       "      <td>F</td>\n",
       "      <td>5.0</td>\n",
       "      <td>82213567288.0</td>\n",
       "      <td>4/1/2014</td>\n",
       "      <td>11.0</td>\n",
       "      <td>6.0</td>\n",
       "      <td>5.0</td>\n",
       "      <td>1499.0</td>\n",
       "      <td>786.975</td>\n",
       "      <td>8281.975</td>\n",
       "      <td>e-Shop</td>\n",
       "      <td>Home and kitchen</td>\n",
       "      <td>Bath</td>\n",
       "    </tr>\n",
       "    <tr>\n",
       "      <th>19908</th>\n",
       "      <td>271635</td>\n",
       "      <td>06-09-1989</td>\n",
       "      <td>F</td>\n",
       "      <td>1.0</td>\n",
       "      <td>12081555316.0</td>\n",
       "      <td>21-08-2012</td>\n",
       "      <td>3.0</td>\n",
       "      <td>5.0</td>\n",
       "      <td>5.0</td>\n",
       "      <td>1499.0</td>\n",
       "      <td>786.975</td>\n",
       "      <td>8281.975</td>\n",
       "      <td>TeleShop</td>\n",
       "      <td>Books</td>\n",
       "      <td>Comics</td>\n",
       "    </tr>\n",
       "    <tr>\n",
       "      <th>21713</th>\n",
       "      <td>274055</td>\n",
       "      <td>18-07-1991</td>\n",
       "      <td>M</td>\n",
       "      <td>6.0</td>\n",
       "      <td>11065779960.0</td>\n",
       "      <td>19-07-2011</td>\n",
       "      <td>4.0</td>\n",
       "      <td>4.0</td>\n",
       "      <td>5.0</td>\n",
       "      <td>1499.0</td>\n",
       "      <td>786.975</td>\n",
       "      <td>8281.975</td>\n",
       "      <td>MBR</td>\n",
       "      <td>Bags</td>\n",
       "      <td>Women</td>\n",
       "    </tr>\n",
       "    <tr>\n",
       "      <th>3973</th>\n",
       "      <td>270121</td>\n",
       "      <td>29-01-1974</td>\n",
       "      <td>F</td>\n",
       "      <td>5.0</td>\n",
       "      <td>97311373122.0</td>\n",
       "      <td>29-11-2011</td>\n",
       "      <td>10.0</td>\n",
       "      <td>3.0</td>\n",
       "      <td>5.0</td>\n",
       "      <td>1498.0</td>\n",
       "      <td>786.450</td>\n",
       "      <td>8276.450</td>\n",
       "      <td>TeleShop</td>\n",
       "      <td>Electronics</td>\n",
       "      <td>Audio and video</td>\n",
       "    </tr>\n",
       "  </tbody>\n",
       "</table>\n",
       "</div>"
      ],
      "text/plain": [
       "      customer_Id         DOB Gender city_code transaction_id   tran_date  \\\n",
       "4065       270667  24-02-1974      M       9.0  47747209902.0  23-08-2012   \n",
       "1900       271944  11-12-1971      F       5.0  94956713072.0  23-03-2013   \n",
       "8202       274854  07-02-1978      M       1.0  96892547017.0  21-06-2011   \n",
       "10602      272954  05-06-1980      F       3.0  53187031441.0  26-05-2012   \n",
       "9504       271152  12-06-1979      M       8.0  58989623800.0   1/10/2011   \n",
       "7375       273076  28-04-1977      F       5.0  35447491388.0  24-09-2013   \n",
       "13420      270087  08-04-1983      F       5.0  82213567288.0    4/1/2014   \n",
       "19908      271635  06-09-1989      F       1.0  12081555316.0  21-08-2012   \n",
       "21713      274055  18-07-1991      M       6.0  11065779960.0  19-07-2011   \n",
       "3973       270121  29-01-1974      F       5.0  97311373122.0  29-11-2011   \n",
       "\n",
       "      prod_subcat_code prod_cat_code  Qty    Rate      Tax  total_amt  \\\n",
       "4065               5.0           3.0  5.0  1500.0  787.500   8287.500   \n",
       "1900               4.0           2.0  5.0  1500.0  787.500   8287.500   \n",
       "8202               3.0           2.0  5.0  1500.0  787.500   8287.500   \n",
       "10602              2.0           6.0  5.0  1500.0  787.500   8287.500   \n",
       "9504               5.0           3.0  5.0  1499.0  786.975   8281.975   \n",
       "7375              10.0           3.0  5.0  1499.0  786.975   8281.975   \n",
       "13420             11.0           6.0  5.0  1499.0  786.975   8281.975   \n",
       "19908              3.0           5.0  5.0  1499.0  786.975   8281.975   \n",
       "21713              4.0           4.0  5.0  1499.0  786.975   8281.975   \n",
       "3973              10.0           3.0  5.0  1498.0  786.450   8276.450   \n",
       "\n",
       "      Store_type          prod_cat      prod_subcat  \n",
       "4065         MBR       Electronics        Computers  \n",
       "1900      e-Shop          Footwear             Kids  \n",
       "8202      e-Shop          Footwear            Women  \n",
       "10602   TeleShop  Home and kitchen       Furnishing  \n",
       "9504      e-Shop       Electronics        Computers  \n",
       "7375         MBR       Electronics  Audio and video  \n",
       "13420     e-Shop  Home and kitchen             Bath  \n",
       "19908   TeleShop             Books           Comics  \n",
       "21713        MBR              Bags            Women  \n",
       "3973    TeleShop       Electronics  Audio and video  "
      ]
     },
     "execution_count": 11,
     "metadata": {},
     "output_type": "execute_result"
    }
   ],
   "source": [
    "customer_final.sort_values(by = 'total_amt',ascending = False).head(10) #Top 10 Observation"
   ]
  },
  {
   "cell_type": "code",
   "execution_count": 12,
   "id": "454b1b11-0734-4def-aaa1-c6d2299a8a74",
   "metadata": {},
   "outputs": [
    {
     "data": {
      "text/html": [
       "<div>\n",
       "<style scoped>\n",
       "    .dataframe tbody tr th:only-of-type {\n",
       "        vertical-align: middle;\n",
       "    }\n",
       "\n",
       "    .dataframe tbody tr th {\n",
       "        vertical-align: top;\n",
       "    }\n",
       "\n",
       "    .dataframe thead th {\n",
       "        text-align: right;\n",
       "    }\n",
       "</style>\n",
       "<table border=\"1\" class=\"dataframe\">\n",
       "  <thead>\n",
       "    <tr style=\"text-align: right;\">\n",
       "      <th></th>\n",
       "      <th>customer_Id</th>\n",
       "      <th>DOB</th>\n",
       "      <th>Gender</th>\n",
       "      <th>city_code</th>\n",
       "      <th>transaction_id</th>\n",
       "      <th>tran_date</th>\n",
       "      <th>prod_subcat_code</th>\n",
       "      <th>prod_cat_code</th>\n",
       "      <th>Qty</th>\n",
       "      <th>Rate</th>\n",
       "      <th>Tax</th>\n",
       "      <th>total_amt</th>\n",
       "      <th>Store_type</th>\n",
       "      <th>prod_cat</th>\n",
       "      <th>prod_subcat</th>\n",
       "    </tr>\n",
       "  </thead>\n",
       "  <tbody>\n",
       "    <tr>\n",
       "      <th>3286</th>\n",
       "      <td>270384</td>\n",
       "      <td>11-05-1973</td>\n",
       "      <td>F</td>\n",
       "      <td>8.0</td>\n",
       "      <td>29258453508.0</td>\n",
       "      <td>27-02-2014</td>\n",
       "      <td>5.0</td>\n",
       "      <td>3.0</td>\n",
       "      <td>-5.0</td>\n",
       "      <td>-1497.0</td>\n",
       "      <td>785.925</td>\n",
       "      <td>-8270.925</td>\n",
       "      <td>e-Shop</td>\n",
       "      <td>Electronics</td>\n",
       "      <td>Computers</td>\n",
       "    </tr>\n",
       "    <tr>\n",
       "      <th>3686</th>\n",
       "      <td>269010</td>\n",
       "      <td>14-10-1973</td>\n",
       "      <td>F</td>\n",
       "      <td>2.0</td>\n",
       "      <td>18666557088.0</td>\n",
       "      <td>7/4/2013</td>\n",
       "      <td>4.0</td>\n",
       "      <td>2.0</td>\n",
       "      <td>-5.0</td>\n",
       "      <td>-1477.0</td>\n",
       "      <td>775.425</td>\n",
       "      <td>-8160.425</td>\n",
       "      <td>e-Shop</td>\n",
       "      <td>Footwear</td>\n",
       "      <td>Kids</td>\n",
       "    </tr>\n",
       "    <tr>\n",
       "      <th>2788</th>\n",
       "      <td>267583</td>\n",
       "      <td>21-11-1972</td>\n",
       "      <td>M</td>\n",
       "      <td>4.0</td>\n",
       "      <td>4572080426.0</td>\n",
       "      <td>8/12/2013</td>\n",
       "      <td>1.0</td>\n",
       "      <td>1.0</td>\n",
       "      <td>-5.0</td>\n",
       "      <td>-1476.0</td>\n",
       "      <td>774.900</td>\n",
       "      <td>-8154.900</td>\n",
       "      <td>Flagship store</td>\n",
       "      <td>Clothing</td>\n",
       "      <td>Women</td>\n",
       "    </tr>\n",
       "    <tr>\n",
       "      <th>4417</th>\n",
       "      <td>266957</td>\n",
       "      <td>22-06-1974</td>\n",
       "      <td>M</td>\n",
       "      <td>3.0</td>\n",
       "      <td>71900965128.0</td>\n",
       "      <td>17-05-2013</td>\n",
       "      <td>4.0</td>\n",
       "      <td>1.0</td>\n",
       "      <td>-5.0</td>\n",
       "      <td>-1474.0</td>\n",
       "      <td>773.850</td>\n",
       "      <td>-8143.850</td>\n",
       "      <td>Flagship store</td>\n",
       "      <td>Clothing</td>\n",
       "      <td>Mens</td>\n",
       "    </tr>\n",
       "    <tr>\n",
       "      <th>12281</th>\n",
       "      <td>270571</td>\n",
       "      <td>26-02-1982</td>\n",
       "      <td>F</td>\n",
       "      <td>1.0</td>\n",
       "      <td>19309959579.0</td>\n",
       "      <td>10/10/2013</td>\n",
       "      <td>7.0</td>\n",
       "      <td>5.0</td>\n",
       "      <td>-5.0</td>\n",
       "      <td>-1473.0</td>\n",
       "      <td>773.325</td>\n",
       "      <td>-8138.325</td>\n",
       "      <td>e-Shop</td>\n",
       "      <td>Books</td>\n",
       "      <td>Fiction</td>\n",
       "    </tr>\n",
       "    <tr>\n",
       "      <th>18724</th>\n",
       "      <td>268669</td>\n",
       "      <td>07-08-1988</td>\n",
       "      <td>F</td>\n",
       "      <td>6.0</td>\n",
       "      <td>12711236844.0</td>\n",
       "      <td>5/12/2013</td>\n",
       "      <td>11.0</td>\n",
       "      <td>6.0</td>\n",
       "      <td>-5.0</td>\n",
       "      <td>-1472.0</td>\n",
       "      <td>772.800</td>\n",
       "      <td>-8132.800</td>\n",
       "      <td>e-Shop</td>\n",
       "      <td>Home and kitchen</td>\n",
       "      <td>Bath</td>\n",
       "    </tr>\n",
       "    <tr>\n",
       "      <th>14580</th>\n",
       "      <td>267898</td>\n",
       "      <td>14-07-1984</td>\n",
       "      <td>M</td>\n",
       "      <td>10.0</td>\n",
       "      <td>15103708771.0</td>\n",
       "      <td>10/7/2013</td>\n",
       "      <td>4.0</td>\n",
       "      <td>1.0</td>\n",
       "      <td>-5.0</td>\n",
       "      <td>-1472.0</td>\n",
       "      <td>772.800</td>\n",
       "      <td>-8132.800</td>\n",
       "      <td>TeleShop</td>\n",
       "      <td>Clothing</td>\n",
       "      <td>Mens</td>\n",
       "    </tr>\n",
       "    <tr>\n",
       "      <th>14318</th>\n",
       "      <td>269514</td>\n",
       "      <td>26-04-1984</td>\n",
       "      <td>M</td>\n",
       "      <td>9.0</td>\n",
       "      <td>64649255875.0</td>\n",
       "      <td>16-05-2011</td>\n",
       "      <td>9.0</td>\n",
       "      <td>3.0</td>\n",
       "      <td>-5.0</td>\n",
       "      <td>-1470.0</td>\n",
       "      <td>771.750</td>\n",
       "      <td>-8121.750</td>\n",
       "      <td>e-Shop</td>\n",
       "      <td>Electronics</td>\n",
       "      <td>Cameras</td>\n",
       "    </tr>\n",
       "    <tr>\n",
       "      <th>18707</th>\n",
       "      <td>272871</td>\n",
       "      <td>02-08-1988</td>\n",
       "      <td>F</td>\n",
       "      <td>8.0</td>\n",
       "      <td>80262862720.0</td>\n",
       "      <td>22-07-2013</td>\n",
       "      <td>12.0</td>\n",
       "      <td>6.0</td>\n",
       "      <td>-5.0</td>\n",
       "      <td>-1468.0</td>\n",
       "      <td>770.700</td>\n",
       "      <td>-8110.700</td>\n",
       "      <td>Flagship store</td>\n",
       "      <td>Home and kitchen</td>\n",
       "      <td>Tools</td>\n",
       "    </tr>\n",
       "    <tr>\n",
       "      <th>18706</th>\n",
       "      <td>272871</td>\n",
       "      <td>02-08-1988</td>\n",
       "      <td>F</td>\n",
       "      <td>8.0</td>\n",
       "      <td>80262862720.0</td>\n",
       "      <td>23-07-2013</td>\n",
       "      <td>12.0</td>\n",
       "      <td>6.0</td>\n",
       "      <td>-5.0</td>\n",
       "      <td>-1468.0</td>\n",
       "      <td>770.700</td>\n",
       "      <td>-8110.700</td>\n",
       "      <td>Flagship store</td>\n",
       "      <td>Home and kitchen</td>\n",
       "      <td>Tools</td>\n",
       "    </tr>\n",
       "  </tbody>\n",
       "</table>\n",
       "</div>"
      ],
      "text/plain": [
       "      customer_Id         DOB Gender city_code transaction_id   tran_date  \\\n",
       "3286       270384  11-05-1973      F       8.0  29258453508.0  27-02-2014   \n",
       "3686       269010  14-10-1973      F       2.0  18666557088.0    7/4/2013   \n",
       "2788       267583  21-11-1972      M       4.0   4572080426.0   8/12/2013   \n",
       "4417       266957  22-06-1974      M       3.0  71900965128.0  17-05-2013   \n",
       "12281      270571  26-02-1982      F       1.0  19309959579.0  10/10/2013   \n",
       "18724      268669  07-08-1988      F       6.0  12711236844.0   5/12/2013   \n",
       "14580      267898  14-07-1984      M      10.0  15103708771.0   10/7/2013   \n",
       "14318      269514  26-04-1984      M       9.0  64649255875.0  16-05-2011   \n",
       "18707      272871  02-08-1988      F       8.0  80262862720.0  22-07-2013   \n",
       "18706      272871  02-08-1988      F       8.0  80262862720.0  23-07-2013   \n",
       "\n",
       "      prod_subcat_code prod_cat_code  Qty    Rate      Tax  total_amt  \\\n",
       "3286               5.0           3.0 -5.0 -1497.0  785.925  -8270.925   \n",
       "3686               4.0           2.0 -5.0 -1477.0  775.425  -8160.425   \n",
       "2788               1.0           1.0 -5.0 -1476.0  774.900  -8154.900   \n",
       "4417               4.0           1.0 -5.0 -1474.0  773.850  -8143.850   \n",
       "12281              7.0           5.0 -5.0 -1473.0  773.325  -8138.325   \n",
       "18724             11.0           6.0 -5.0 -1472.0  772.800  -8132.800   \n",
       "14580              4.0           1.0 -5.0 -1472.0  772.800  -8132.800   \n",
       "14318              9.0           3.0 -5.0 -1470.0  771.750  -8121.750   \n",
       "18707             12.0           6.0 -5.0 -1468.0  770.700  -8110.700   \n",
       "18706             12.0           6.0 -5.0 -1468.0  770.700  -8110.700   \n",
       "\n",
       "           Store_type          prod_cat prod_subcat  \n",
       "3286           e-Shop       Electronics   Computers  \n",
       "3686           e-Shop          Footwear        Kids  \n",
       "2788   Flagship store          Clothing       Women  \n",
       "4417   Flagship store          Clothing        Mens  \n",
       "12281          e-Shop             Books     Fiction  \n",
       "18724          e-Shop  Home and kitchen        Bath  \n",
       "14580        TeleShop          Clothing        Mens  \n",
       "14318          e-Shop       Electronics     Cameras  \n",
       "18707  Flagship store  Home and kitchen       Tools  \n",
       "18706  Flagship store  Home and kitchen       Tools  "
      ]
     },
     "execution_count": 12,
     "metadata": {},
     "output_type": "execute_result"
    }
   ],
   "source": [
    "customer_final.sort_values(by = 'total_amt',ascending = True).head(10) #Bottom 10 Observation"
   ]
  },
  {
   "cell_type": "markdown",
   "id": "48cae134-ad28-4fa5-9126-e5817eacb0c0",
   "metadata": {},
   "source": [
    "###  c. “Five-number summary” for continuous variables (min, Q1, median, Q3 and max)"
   ]
  },
  {
   "cell_type": "code",
   "execution_count": 13,
   "id": "1143fa2a-9f94-40f8-9e94-6e313b32509e",
   "metadata": {},
   "outputs": [],
   "source": [
    "Five_number_summary = customer_final.loc[:,['Qty','Rate','Tax','total_amt']].describe(include = 'all').T"
   ]
  },
  {
   "cell_type": "code",
   "execution_count": 14,
   "id": "e2c842c1-2875-403c-b2ee-7df1c7657f34",
   "metadata": {},
   "outputs": [],
   "source": [
    "Five_number_summary = Five_number_summary.iloc[:,3:8]"
   ]
  },
  {
   "cell_type": "code",
   "execution_count": 15,
   "id": "35b7d446-00fe-44fd-9388-45b31dd941cd",
   "metadata": {},
   "outputs": [],
   "source": [
    "Five_number_summary = Five_number_summary.rename(columns = {'50%':'median'})"
   ]
  },
  {
   "cell_type": "code",
   "execution_count": 16,
   "id": "535ac861-6018-4dcf-9602-0ce734a67fae",
   "metadata": {},
   "outputs": [
    {
     "data": {
      "text/html": [
       "<div>\n",
       "<style scoped>\n",
       "    .dataframe tbody tr th:only-of-type {\n",
       "        vertical-align: middle;\n",
       "    }\n",
       "\n",
       "    .dataframe tbody tr th {\n",
       "        vertical-align: top;\n",
       "    }\n",
       "\n",
       "    .dataframe thead th {\n",
       "        text-align: right;\n",
       "    }\n",
       "</style>\n",
       "<table border=\"1\" class=\"dataframe\">\n",
       "  <thead>\n",
       "    <tr style=\"text-align: right;\">\n",
       "      <th></th>\n",
       "      <th>min</th>\n",
       "      <th>25%</th>\n",
       "      <th>median</th>\n",
       "      <th>75%</th>\n",
       "      <th>max</th>\n",
       "    </tr>\n",
       "  </thead>\n",
       "  <tbody>\n",
       "    <tr>\n",
       "      <th>Qty</th>\n",
       "      <td>-5.000</td>\n",
       "      <td>1.00</td>\n",
       "      <td>3.00</td>\n",
       "      <td>4.000</td>\n",
       "      <td>5.0</td>\n",
       "    </tr>\n",
       "    <tr>\n",
       "      <th>Rate</th>\n",
       "      <td>-1499.000</td>\n",
       "      <td>312.00</td>\n",
       "      <td>710.00</td>\n",
       "      <td>1109.000</td>\n",
       "      <td>1500.0</td>\n",
       "    </tr>\n",
       "    <tr>\n",
       "      <th>Tax</th>\n",
       "      <td>7.350</td>\n",
       "      <td>98.28</td>\n",
       "      <td>199.08</td>\n",
       "      <td>365.715</td>\n",
       "      <td>787.5</td>\n",
       "    </tr>\n",
       "    <tr>\n",
       "      <th>total_amt</th>\n",
       "      <td>-8270.925</td>\n",
       "      <td>762.45</td>\n",
       "      <td>1754.74</td>\n",
       "      <td>3569.150</td>\n",
       "      <td>8287.5</td>\n",
       "    </tr>\n",
       "  </tbody>\n",
       "</table>\n",
       "</div>"
      ],
      "text/plain": [
       "                min     25%   median       75%     max\n",
       "Qty          -5.000    1.00     3.00     4.000     5.0\n",
       "Rate      -1499.000  312.00   710.00  1109.000  1500.0\n",
       "Tax           7.350   98.28   199.08   365.715   787.5\n",
       "total_amt -8270.925  762.45  1754.74  3569.150  8287.5"
      ]
     },
     "execution_count": 16,
     "metadata": {},
     "output_type": "execute_result"
    }
   ],
   "source": [
    "Five_number_summary"
   ]
  },
  {
   "cell_type": "markdown",
   "id": "4bc8361c-f601-4e74-90ed-72af38441d99",
   "metadata": {},
   "source": [
    "### d. Frequency tables for all the categorical variables"
   ]
  },
  {
   "cell_type": "code",
   "execution_count": 17,
   "id": "370a1511-9bb1-450f-a9dd-79881771bbf1",
   "metadata": {},
   "outputs": [],
   "source": [
    "Frequency_table = customer_final.select_dtypes(include=['object']).describe(include = 'all').T"
   ]
  },
  {
   "cell_type": "code",
   "execution_count": 18,
   "id": "a8ecab03-ba4a-4bdd-9933-918b97df7d5d",
   "metadata": {},
   "outputs": [],
   "source": [
    "Frequency_table = Frequency_table.iloc[:,3:]"
   ]
  },
  {
   "cell_type": "code",
   "execution_count": 19,
   "id": "9ff40644-33fa-4b0b-a83b-804d5ce62127",
   "metadata": {},
   "outputs": [
    {
     "data": {
      "text/html": [
       "<div>\n",
       "<style scoped>\n",
       "    .dataframe tbody tr th:only-of-type {\n",
       "        vertical-align: middle;\n",
       "    }\n",
       "\n",
       "    .dataframe tbody tr th {\n",
       "        vertical-align: top;\n",
       "    }\n",
       "\n",
       "    .dataframe thead th {\n",
       "        text-align: right;\n",
       "    }\n",
       "</style>\n",
       "<table border=\"1\" class=\"dataframe\">\n",
       "  <thead>\n",
       "    <tr style=\"text-align: right;\">\n",
       "      <th></th>\n",
       "      <th>freq</th>\n",
       "    </tr>\n",
       "  </thead>\n",
       "  <tbody>\n",
       "    <tr>\n",
       "      <th>customer_Id</th>\n",
       "      <td>13</td>\n",
       "    </tr>\n",
       "    <tr>\n",
       "      <th>DOB</th>\n",
       "      <td>32</td>\n",
       "    </tr>\n",
       "    <tr>\n",
       "      <th>Gender</th>\n",
       "      <td>11877</td>\n",
       "    </tr>\n",
       "    <tr>\n",
       "      <th>city_code</th>\n",
       "      <td>2435.0</td>\n",
       "    </tr>\n",
       "    <tr>\n",
       "      <th>transaction_id</th>\n",
       "      <td>4.0</td>\n",
       "    </tr>\n",
       "    <tr>\n",
       "      <th>tran_date</th>\n",
       "      <td>35</td>\n",
       "    </tr>\n",
       "    <tr>\n",
       "      <th>prod_subcat_code</th>\n",
       "      <td>4002.0</td>\n",
       "    </tr>\n",
       "    <tr>\n",
       "      <th>prod_cat_code</th>\n",
       "      <td>6069.0</td>\n",
       "    </tr>\n",
       "    <tr>\n",
       "      <th>Store_type</th>\n",
       "      <td>9311</td>\n",
       "    </tr>\n",
       "    <tr>\n",
       "      <th>prod_cat</th>\n",
       "      <td>6069</td>\n",
       "    </tr>\n",
       "    <tr>\n",
       "      <th>prod_subcat</th>\n",
       "      <td>3048</td>\n",
       "    </tr>\n",
       "  </tbody>\n",
       "</table>\n",
       "</div>"
      ],
      "text/plain": [
       "                    freq\n",
       "customer_Id           13\n",
       "DOB                   32\n",
       "Gender             11877\n",
       "city_code         2435.0\n",
       "transaction_id       4.0\n",
       "tran_date             35\n",
       "prod_subcat_code  4002.0\n",
       "prod_cat_code     6069.0\n",
       "Store_type          9311\n",
       "prod_cat            6069\n",
       "prod_subcat         3048"
      ]
     },
     "execution_count": 19,
     "metadata": {},
     "output_type": "execute_result"
    }
   ],
   "source": [
    "Frequency_table"
   ]
  },
  {
   "cell_type": "markdown",
   "id": "41250a9b-b63b-4654-909e-11a0e384e9fb",
   "metadata": {},
   "source": [
    "### 3. Generate histograms for all continuous variables and frequency bars for categorical variables."
   ]
  },
  {
   "cell_type": "code",
   "execution_count": 20,
   "id": "c26e1027-47fe-4558-a170-1f2643fe08e1",
   "metadata": {},
   "outputs": [],
   "source": [
    "#continuous_variables\n",
    "continuous_variables = customer_final.select_dtypes(include=['float64'])"
   ]
  },
  {
   "cell_type": "code",
   "execution_count": 21,
   "id": "316ce69f-3ca5-4054-847c-460750678934",
   "metadata": {},
   "outputs": [
    {
     "data": {
      "image/png": "[encoded data removed]",
      "text/plain": [
       "<Figure size 200x200 with 1 Axes>"
      ]
     },
     "metadata": {},
     "output_type": "display_data"
    },
    {
     "data": {
      "image/png": "[encoded data removed]",
      "text/plain": [
       "<Figure size 200x200 with 1 Axes>"
      ]
     },
     "metadata": {},
     "output_type": "display_data"
    },
    {
     "data": {
      "image/png": "[encoded data removed]",
      "text/plain": [
       "<Figure size 200x200 with 1 Axes>"
      ]
     },
     "metadata": {},
     "output_type": "display_data"
    },
    {
     "data": {
      "image/png": "[encoded data removed]",
      "text/plain": [
       "<Figure size 200x200 with 1 Axes>"
      ]
     },
     "metadata": {},
     "output_type": "display_data"
    }
   ],
   "source": [
    "for column in continuous_variables.columns:\n",
    "    plt.figure(figsize=(2,2))\n",
    "    sns.histplot(data=customer_final, x=column, kde=True)\n",
    "    plt.title(f'Histogram of {column}')\n",
    "    plt.xlabel(column)\n",
    "    plt.ylabel('Frequency')\n",
    "    plt.show()"
   ]
  },
  {
   "cell_type": "code",
   "execution_count": 22,
   "id": "decfdc4f-775a-4702-9cf2-ba8f21e028de",
   "metadata": {},
   "outputs": [],
   "source": [
    "#categorical_columns\n",
    "categorical_columns = customer_final.select_dtypes(include=['object'])"
   ]
  },
  {
   "cell_type": "code",
   "execution_count": 23,
   "id": "dea57c7a-6c73-43cc-a1ac-2157453d2ff0",
   "metadata": {},
   "outputs": [
    {
     "data": {
      "image/png": "[encoded data removed]",
      "text/plain": [
       "<Figure size 400x400 with 1 Axes>"
      ]
     },
     "metadata": {},
     "output_type": "display_data"
    },
    {
     "data": {
      "image/png": "[encoded data removed]",
      "text/plain": [
       "<Figure size 400x400 with 1 Axes>"
      ]
     },
     "metadata": {},
     "output_type": "display_data"
    },
    {
     "data": {
      "image/png": "[encoded data removed]",
      "text/plain": [
       "<Figure size 400x400 with 1 Axes>"
      ]
     },
     "metadata": {},
     "output_type": "display_data"
    },
    {
     "data": {
      "image/png": "[encoded data removed]",
      "text/plain": [
       "<Figure size 400x400 with 1 Axes>"
      ]
     },
     "metadata": {},
     "output_type": "display_data"
    },
    {
     "data": {
      "image/png": "[encoded data removed]",
      "text/plain": [
       "<Figure size 400x400 with 1 Axes>"
      ]
     },
     "metadata": {},
     "output_type": "display_data"
    },
    {
     "data": {
      "image/png": "[encoded data removed]",
      "text/plain": [
       "<Figure size 400x400 with 1 Axes>"
      ]
     },
     "metadata": {},
     "output_type": "display_data"
    },
    {
     "data": {
      "image/png": "[encoded data removed]",
      "text/plain": [
       "<Figure size 400x400 with 1 Axes>"
      ]
     },
     "metadata": {},
     "output_type": "display_data"
    },
    {
     "data": {
      "image/png": "[encoded data removed]",
      "text/plain": [
       "<Figure size 400x400 with 1 Axes>"
      ]
     },
     "metadata": {},
     "output_type": "display_data"
    },
    {
     "data": {
      "image/png": "[encoded data removed]",
      "text/plain": [
       "<Figure size 400x400 with 1 Axes>"
      ]
     },
     "metadata": {},
     "output_type": "display_data"
    },
    {
     "data": {
      "image/png": "[encoded data removed]",
      "text/plain": [
       "<Figure size 400x400 with 1 Axes>"
      ]
     },
     "metadata": {},
     "output_type": "display_data"
    },
    {
     "data": {
      "image/png": "[encoded data removed]",
      "text/plain": [
       "<Figure size 400x400 with 1 Axes>"
      ]
     },
     "metadata": {},
     "output_type": "display_data"
    }
   ],
   "source": [
    "for column in categorical_columns.columns:\n",
    "    plt.figure(figsize=(4,4))\n",
    "    sns.countplot(data=customer_final, x=column, order=customer_final[column].value_counts().index)\n",
    "    plt.title(f'Frequency Bar Plot of {column}')\n",
    "    plt.xlabel(column)\n",
    "    plt.ylabel('Frequency')\n",
    "    plt.xticks(rotation=90)\n",
    "    plt.tight_layout()\n",
    "    plt.show()"
   ]
  },
  {
   "cell_type": "markdown",
   "id": "6f48a895-d191-42ce-b4a1-0e4e17d2ed77",
   "metadata": {},
   "source": [
    "## 4. Calculate the following information using the merged dataset :"
   ]
  },
  {
   "cell_type": "markdown",
   "id": "53c258b2-1fd3-4f79-a952-4fd370c03a86",
   "metadata": {},
   "source": [
    "### a. Time period of the available transaction data"
   ]
  },
  {
   "cell_type": "code",
   "execution_count": 38,
   "id": "bedcbaf7-ba39-4c9c-bdd3-e4d565acc333",
   "metadata": {},
   "outputs": [],
   "source": [
    "min_date = customer_final.tran_date.min()\n",
    "max_date = customer_final.tran_date.max()"
   ]
  },
  {
   "cell_type": "code",
   "execution_count": 42,
   "id": "7643620f-cd18-484c-be32-205903b6e5d8",
   "metadata": {},
   "outputs": [],
   "source": [
    "time_period = (max_date - min_date)"
   ]
  },
  {
   "cell_type": "code",
   "execution_count": 43,
   "id": "a79fe551-e301-41da-951b-426ce5fb7227",
   "metadata": {},
   "outputs": [
    {
     "data": {
      "text/plain": [
       "Timedelta('1107 days 00:00:00')"
      ]
     },
     "execution_count": 43,
     "metadata": {},
     "output_type": "execute_result"
    }
   ],
   "source": [
    "time_period"
   ]
  },
  {
   "cell_type": "markdown",
   "id": "4d122637-6724-4237-bb39-826542af3b15",
   "metadata": {},
   "source": [
    "### b. Count of transactions where the total amount of transaction was negative"
   ]
  },
  {
   "cell_type": "code",
   "execution_count": 50,
   "id": "999c0b94-9665-4c81-a9e5-41308b641ad2",
   "metadata": {},
   "outputs": [],
   "source": [
    "Count_of_negative_transactions = customer_final[customer_final.total_amt < 0].shape[0]"
   ]
  },
  {
   "cell_type": "code",
   "execution_count": 51,
   "id": "97c2dfca-654d-40e3-a22c-0e9855c04e1b",
   "metadata": {},
   "outputs": [
    {
     "data": {
      "text/plain": [
       "2177"
      ]
     },
     "execution_count": 51,
     "metadata": {},
     "output_type": "execute_result"
    }
   ],
   "source": [
    "Count_of_negative_transactions"
   ]
  },
  {
   "cell_type": "markdown",
   "id": "993cad68-cc46-4b20-8f36-3dc3558adb87",
   "metadata": {},
   "source": [
    "## 5. Analyze which product categories are more popular among females vs male customers."
   ]
  },
  {
   "cell_type": "code",
   "execution_count": 110,
   "id": "ea366302-edf7-4f8e-9aa9-3cc4ac6e2423",
   "metadata": {},
   "outputs": [
    {
     "data": {
      "text/html": [
       "<div>\n",
       "<style scoped>\n",
       "    .dataframe tbody tr th:only-of-type {\n",
       "        vertical-align: middle;\n",
       "    }\n",
       "\n",
       "    .dataframe tbody tr th {\n",
       "        vertical-align: top;\n",
       "    }\n",
       "\n",
       "    .dataframe thead th {\n",
       "        text-align: right;\n",
       "    }\n",
       "</style>\n",
       "<table border=\"1\" class=\"dataframe\">\n",
       "  <thead>\n",
       "    <tr style=\"text-align: right;\">\n",
       "      <th>Gender</th>\n",
       "      <th>F</th>\n",
       "      <th>M</th>\n",
       "    </tr>\n",
       "    <tr>\n",
       "      <th>prod_cat</th>\n",
       "      <th></th>\n",
       "      <th></th>\n",
       "    </tr>\n",
       "  </thead>\n",
       "  <tbody>\n",
       "    <tr>\n",
       "      <th>Bags</th>\n",
       "      <td>994</td>\n",
       "      <td>1004</td>\n",
       "    </tr>\n",
       "    <tr>\n",
       "      <th>Books</th>\n",
       "      <td>2949</td>\n",
       "      <td>3116</td>\n",
       "    </tr>\n",
       "    <tr>\n",
       "      <th>Clothing</th>\n",
       "      <td>1439</td>\n",
       "      <td>1518</td>\n",
       "    </tr>\n",
       "    <tr>\n",
       "      <th>Electronics</th>\n",
       "      <td>2328</td>\n",
       "      <td>2570</td>\n",
       "    </tr>\n",
       "    <tr>\n",
       "      <th>Footwear</th>\n",
       "      <td>1529</td>\n",
       "      <td>1469</td>\n",
       "    </tr>\n",
       "    <tr>\n",
       "      <th>Home and kitchen</th>\n",
       "      <td>1994</td>\n",
       "      <td>2134</td>\n",
       "    </tr>\n",
       "  </tbody>\n",
       "</table>\n",
       "</div>"
      ],
      "text/plain": [
       "Gender               F     M\n",
       "prod_cat                    \n",
       "Bags               994  1004\n",
       "Books             2949  3116\n",
       "Clothing          1439  1518\n",
       "Electronics       2328  2570\n",
       "Footwear          1529  1469\n",
       "Home and kitchen  1994  2134"
      ]
     },
     "execution_count": 110,
     "metadata": {},
     "output_type": "execute_result"
    }
   ],
   "source": [
    "category_popularity = pd.pivot_table(data = customer_final,index = 'prod_cat',columns = 'Gender',values = 'total_amt',aggfunc = 'count')\n",
    "category_popularity"
   ]
  },
  {
   "cell_type": "code",
   "execution_count": 93,
   "id": "b2e3652d-2bd0-4f08-a857-c40d017c2319",
   "metadata": {},
   "outputs": [
    {
     "data": {
      "text/html": [
       "<div>\n",
       "<style scoped>\n",
       "    .dataframe tbody tr th:only-of-type {\n",
       "        vertical-align: middle;\n",
       "    }\n",
       "\n",
       "    .dataframe tbody tr th {\n",
       "        vertical-align: top;\n",
       "    }\n",
       "\n",
       "    .dataframe thead th {\n",
       "        text-align: right;\n",
       "    }\n",
       "</style>\n",
       "<table border=\"1\" class=\"dataframe\">\n",
       "  <thead>\n",
       "    <tr style=\"text-align: right;\">\n",
       "      <th>Gender</th>\n",
       "      <th>M</th>\n",
       "    </tr>\n",
       "    <tr>\n",
       "      <th>prod_cat</th>\n",
       "      <th></th>\n",
       "    </tr>\n",
       "  </thead>\n",
       "  <tbody>\n",
       "    <tr>\n",
       "      <th>Books</th>\n",
       "      <td>3116</td>\n",
       "    </tr>\n",
       "  </tbody>\n",
       "</table>\n",
       "</div>"
      ],
      "text/plain": [
       "Gender       M\n",
       "prod_cat      \n",
       "Books     3116"
      ]
     },
     "execution_count": 93,
     "metadata": {},
     "output_type": "execute_result"
    }
   ],
   "source": [
    "catergory_popular_among_males = category_popularity.iloc[:,1:].sort_values(by = 'M',ascending = False).head(1)\n",
    "catergory_popular_among_males"
   ]
  },
  {
   "cell_type": "code",
   "execution_count": 109,
   "id": "21583999-ebc9-439c-bd4f-475e02f26433",
   "metadata": {},
   "outputs": [
    {
     "data": {
      "text/html": [
       "<div>\n",
       "<style scoped>\n",
       "    .dataframe tbody tr th:only-of-type {\n",
       "        vertical-align: middle;\n",
       "    }\n",
       "\n",
       "    .dataframe tbody tr th {\n",
       "        vertical-align: top;\n",
       "    }\n",
       "\n",
       "    .dataframe thead th {\n",
       "        text-align: right;\n",
       "    }\n",
       "</style>\n",
       "<table border=\"1\" class=\"dataframe\">\n",
       "  <thead>\n",
       "    <tr style=\"text-align: right;\">\n",
       "      <th>Gender</th>\n",
       "      <th>F</th>\n",
       "    </tr>\n",
       "    <tr>\n",
       "      <th>prod_cat</th>\n",
       "      <th></th>\n",
       "    </tr>\n",
       "  </thead>\n",
       "  <tbody>\n",
       "    <tr>\n",
       "      <th>Books</th>\n",
       "      <td>2949</td>\n",
       "    </tr>\n",
       "  </tbody>\n",
       "</table>\n",
       "</div>"
      ],
      "text/plain": [
       "Gender       F\n",
       "prod_cat      \n",
       "Books     2949"
      ]
     },
     "execution_count": 109,
     "metadata": {},
     "output_type": "execute_result"
    }
   ],
   "source": [
    "catergory_popular_among_females = category_popularity.iloc[:,0:1].sort_values(by = 'F',ascending = False).head(1)\n",
    "catergory_popular_among_females"
   ]
  },
  {
   "cell_type": "markdown",
   "id": "68d14d0f-6fe8-4e0b-b584-964d61384856",
   "metadata": {},
   "source": [
    "### 6. Which City code has the maximum customers and what was the percentage of customers from \n",
    "that city?\r"
   ]
  },
  {
   "cell_type": "code",
   "execution_count": 12,
   "id": "b3ef9eb7-b0f3-4e3c-b1fa-b58c178ea8d1",
   "metadata": {},
   "outputs": [
    {
     "data": {
      "text/plain": [
       "23194"
      ]
     },
     "execution_count": 12,
     "metadata": {},
     "output_type": "execute_result"
    }
   ],
   "source": [
    "total_customer = customer_final.customer_Id.shape[0]\n",
    "total_customer"
   ]
  },
  {
   "cell_type": "code",
   "execution_count": 13,
   "id": "5964b72d-cf5f-497e-8592-a86d8f658f98",
   "metadata": {},
   "outputs": [
    {
     "data": {
      "text/plain": [
       "city_code\n",
       "4.0    2435\n",
       "Name: count, dtype: int64"
      ]
     },
     "execution_count": 13,
     "metadata": {},
     "output_type": "execute_result"
    }
   ],
   "source": [
    "customer_count_city_wise = customer_final.groupby('city_code').city_code.value_counts()\n",
    "max_customers_by_city_code = customer_count_city_wise.sort_values(ascending = False).head(1)\n",
    "max_customers_by_city_code"
   ]
  },
  {
   "cell_type": "code",
   "execution_count": 14,
   "id": "d8bc04ff-7d97-4427-99f3-3d6cd9566149",
   "metadata": {},
   "outputs": [
    {
     "data": {
      "text/plain": [
       "city_code\n",
       "4.0    10.498405\n",
       "Name: count, dtype: float64"
      ]
     },
     "execution_count": 14,
     "metadata": {},
     "output_type": "execute_result"
    }
   ],
   "source": [
    "percentage_of_customers_from_that_city = max_customers_by_city_code*100/total_customer\n",
    "percentage_of_customers_from_that_city"
   ]
  },
  {
   "cell_type": "markdown",
   "id": "acbbcacd-7569-4f35-b4ff-12646025b818",
   "metadata": {},
   "source": [
    "## 7. Which store type sells the maximum products by value and by quantity?"
   ]
  },
  {
   "cell_type": "code",
   "execution_count": 25,
   "id": "0ce78103-b288-419b-96d3-7b2861e3ae0b",
   "metadata": {},
   "outputs": [
    {
     "data": {
      "text/plain": [
       "Store_type\n",
       "e-Shop    19824816.05\n",
       "Name: total_amt, dtype: float64"
      ]
     },
     "execution_count": 25,
     "metadata": {},
     "output_type": "execute_result"
    }
   ],
   "source": [
    "#store type sells the maximum products by value\n",
    "store_wise_value = customer_final.groupby('Store_type').total_amt.sum()\n",
    "max_store_wise_value = store_wise_value.sort_values(ascending = False).head(1)\n",
    "max_store_wise_value"
   ]
  },
  {
   "cell_type": "code",
   "execution_count": 28,
   "id": "f4bf230d-9c86-4095-86fc-8a1b63bfdf28",
   "metadata": {},
   "outputs": [
    {
     "data": {
      "text/plain": [
       "Store_type\n",
       "e-Shop    22763.0\n",
       "Name: Qty, dtype: float64"
      ]
     },
     "execution_count": 28,
     "metadata": {},
     "output_type": "execute_result"
    }
   ],
   "source": [
    "#store type sells the maximum products by quantity\n",
    "store_wise_Qty = customer_final.groupby('Store_type').Qty.sum()\n",
    "max_store_wise_Qty = store_wise_Qty.sort_values(ascending = False).head(1)\n",
    "max_store_wise_Qty"
   ]
  },
  {
   "cell_type": "markdown",
   "id": "9da47071-0eb6-41cd-9641-c2caaccda8e0",
   "metadata": {},
   "source": [
    "## 8. What was the total amount earned from the \"Electronics\" and \"Clothing\" categories from \n",
    "Flagship Stores\r"
   ]
  },
  {
   "cell_type": "code",
   "execution_count": 49,
   "id": "475c1492-be89-4405-ad0c-952040fa8fe6",
   "metadata": {},
   "outputs": [
    {
     "data": {
      "text/plain": [
       "prod_cat\n",
       "Clothing       1194423.23\n",
       "Electronics    2215136.04\n",
       "Name: total_amt, dtype: float64"
      ]
     },
     "execution_count": 49,
     "metadata": {},
     "output_type": "execute_result"
    }
   ],
   "source": [
    "df = customer_final[(customer_final.prod_cat == 'Electronics') | (customer_final.prod_cat == 'Clothing')]\n",
    "df = df[df.Store_type == 'Flagship store']\n",
    "df.groupby('prod_cat').total_amt.sum()"
   ]
  },
  {
   "cell_type": "markdown",
   "id": "b8efc5b6-627b-4857-aa43-b03d44bfec94",
   "metadata": {},
   "source": [
    "## 9. What was the total amount earned from \"Male\" customers under the \"Electronics\" category?"
   ]
  },
  {
   "cell_type": "code",
   "execution_count": 55,
   "id": "2433d719-ae52-4fa1-8508-2a9a161c7f52",
   "metadata": {},
   "outputs": [
    {
     "data": {
      "text/plain": [
       "Gender  prod_cat   \n",
       "M       Electronics    5703109.425\n",
       "Name: total_amt, dtype: float64"
      ]
     },
     "execution_count": 55,
     "metadata": {},
     "output_type": "execute_result"
    }
   ],
   "source": [
    "df1 = customer_final[(customer_final.prod_cat == 'Electronics') & (customer_final.Gender == 'M')]\n",
    "df1.groupby(['Gender','prod_cat']).total_amt.sum()"
   ]
  },
  {
   "cell_type": "markdown",
   "id": "146addb7-205b-4fc6-a29a-b49c3eb7914c",
   "metadata": {},
   "source": [
    "## 10. How many customers have more than 10 unique transactions, after removing all transactions \n",
    "which have any negative amounts?"
   ]
  },
  {
   "cell_type": "code",
   "execution_count": 78,
   "id": "1d51cd0a-e382-402f-9fb4-86c6d34ae537",
   "metadata": {},
   "outputs": [
    {
     "data": {
      "text/plain": [
       "customer_Id    6\n",
       "dtype: int64"
      ]
     },
     "execution_count": 78,
     "metadata": {},
     "output_type": "execute_result"
    }
   ],
   "source": [
    "df2 = customer_final[customer_final.total_amt > 0]\n",
    "df2 = df2.groupby('customer_Id').transaction_id.nunique()\n",
    "df2 = df2.reset_index()\n",
    "df2 = df2[df2.transaction_id > 10]\n",
    "df2 = df2.iloc[:,0:1].count()\n",
    "df2"
   ]
  },
  {
   "cell_type": "markdown",
   "id": "3b729da1-1762-44a8-8aae-949864c2ab6a",
   "metadata": {},
   "source": [
    "## 11. For all customers aged between 25 - 35, find out:"
   ]
  },
  {
   "cell_type": "code",
   "execution_count": 145,
   "id": "88edf3ed-7b5d-42e8-b58f-109c21f6b8c0",
   "metadata": {},
   "outputs": [],
   "source": [
    "customer_final['Age'] = 2024 - customer_final['DOB'].dt.year\n",
    "df4 = customer_final[(customer_final.Age >= 25 ) & (customer_final.Age <= 35 )]"
   ]
  },
  {
   "cell_type": "markdown",
   "id": "e62aa2c7-b86f-4a3f-9b24-e10825e178ac",
   "metadata": {},
   "source": [
    "### a. What was the total amount spent for “Electronics” and “Books” product categories?"
   ]
  },
  {
   "cell_type": "code",
   "execution_count": 155,
   "id": "aaf26c52-667e-47f8-a98c-70dd0bc0ccd5",
   "metadata": {},
   "outputs": [
    {
     "data": {
      "text/plain": [
       "prod_cat\n",
       "Books          2109168.750\n",
       "Electronics    1819301.835\n",
       "Name: total_amt, dtype: float64"
      ]
     },
     "execution_count": 155,
     "metadata": {},
     "output_type": "execute_result"
    }
   ],
   "source": [
    "df5 = df4[(df4.prod_cat == 'Electronics') | (df4.prod_cat == 'Books')]\n",
    "df5 = df5.groupby('prod_cat').total_amt.sum()\n",
    "df5"
   ]
  },
  {
   "cell_type": "markdown",
   "id": "1738e229-38a0-4bcb-8bf9-597ffb02cc76",
   "metadata": {},
   "source": [
    "### b. What was the total amount spent by these customers between 1st Jan, 2014 to 1st Mar, 2014?"
   ]
  },
  {
   "cell_type": "code",
   "execution_count": 161,
   "id": "534761f9-2572-40c4-8756-c53bd61ea6e8",
   "metadata": {},
   "outputs": [],
   "source": [
    "df6 = df4[(df4.tran_date >= '2014-01-01') & (df4.tran_date <= '2014-03-01')]"
   ]
  },
  {
   "cell_type": "code",
   "execution_count": 165,
   "id": "1035d74c-3ab8-4bf8-aed5-589a66fb3ff9",
   "metadata": {},
   "outputs": [
    {
     "data": {
      "text/plain": [
       "197188.35499999998"
      ]
     },
     "execution_count": 165,
     "metadata": {},
     "output_type": "execute_result"
    }
   ],
   "source": [
    "total_amt_spent = df6.total_amt.sum()\n",
    "total_amt_spent"
   ]
  }
 ],
 "metadata": {
  "kernelspec": {
   "display_name": "Python 3 (ipykernel)",
   "language": "python",
   "name": "python3"
  },
  "language_info": {
   "codemirror_mode": {
    "name": "ipython",
    "version": 3
   },
   "file_extension": ".py",
   "mimetype": "text/x-python",
   "name": "python",
   "nbconvert_exporter": "python",
   "pygments_lexer": "ipython3",
   "version": "3.12.4"
  }
 },
 "nbformat": 4,
 "nbformat_minor": 5
}
